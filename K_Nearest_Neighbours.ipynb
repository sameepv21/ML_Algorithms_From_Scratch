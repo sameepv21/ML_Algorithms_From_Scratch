{
  "nbformat": 4,
  "nbformat_minor": 0,
  "metadata": {
    "colab": {
      "name": "K-Nearest-Neighbours.ipynb",
      "provenance": [],
      "collapsed_sections": [],
      "authorship_tag": "ABX9TyMJPXQKbwso4r1Ra1qjeVq5",
      "include_colab_link": true
    },
    "kernelspec": {
      "name": "python3",
      "display_name": "Python 3"
    },
    "language_info": {
      "name": "python"
    }
  },
  "cells": [
    {
      "cell_type": "markdown",
      "metadata": {
        "id": "view-in-github",
        "colab_type": "text"
      },
      "source": [
        "<a href=\"https://colab.research.google.com/github/sameepv21/ML_Algorithms_From_Scratch/blob/master/K_Nearest_Neighbours.ipynb\" target=\"_parent\"><img src=\"https://colab.research.google.com/assets/colab-badge.svg\" alt=\"Open In Colab\"/></a>"
      ]
    },
    {
      "cell_type": "markdown",
      "source": [
        "# Introduction\n",
        "* KNN is a supervised machine leanring algorithm that can be used not only for classification but also for regression problems. However, in this, I have used it for a classficiation problem.\n",
        "* KNN relies on observable data similarities and sophisticated distance metrics to generate accurate predictions.\n",
        "* It can overfit the data if value of k is chosen to be less (eg. 1) and underfit the data if value of k is chosen to be high (eg. 2)."
      ],
      "metadata": {
        "id": "GikAsgwcVgPY"
      }
    },
    {
      "cell_type": "markdown",
      "source": [
        "# Working\n",
        "* For an observation that is not in the dataset, the algorithm will simply look for the K number of instances defined as similar based on the closest perimeter to that observation.\n",
        "* Now, if KNN is used for regression tasks, the predictions will be based on the mean or median of the K closest observations.\n",
        "* On the other hand, if it is used for classification problem, the mode of the closes observations will be taken as the output."
      ],
      "metadata": {
        "id": "QYBQUsfxvJ03"
      }
    },
    {
      "cell_type": "code",
      "execution_count": 1,
      "metadata": {
        "id": "M80vYgPFNUAk"
      },
      "outputs": [],
      "source": [
        "import numpy as np\n",
        "import pandas as pd\n",
        "import seaborn as sns\n",
        "import matplotlib\n",
        "import matplotlib.pyplot as plt\n",
        "import math\n",
        "\n",
        "from sklearn import datasets"
      ]
    },
    {
      "cell_type": "code",
      "source": [
        "iris = datasets.load_iris()\n",
        "\n",
        "X_train = pd.DataFrame(data = iris.data, columns = iris.feature_names)\n",
        "X_train['target'] = iris.target\n",
        "X_train.head()"
      ],
      "metadata": {
        "colab": {
          "base_uri": "https://localhost:8080/",
          "height": 206
        },
        "id": "grHfDtwtOSjo",
        "outputId": "c2022c39-6721-4a59-f3fb-a62394485e7b"
      },
      "execution_count": 2,
      "outputs": [
        {
          "output_type": "execute_result",
          "data": {
            "text/plain": [
              "   sepal length (cm)  sepal width (cm)  petal length (cm)  petal width (cm)  \\\n",
              "0                5.1               3.5                1.4               0.2   \n",
              "1                4.9               3.0                1.4               0.2   \n",
              "2                4.7               3.2                1.3               0.2   \n",
              "3                4.6               3.1                1.5               0.2   \n",
              "4                5.0               3.6                1.4               0.2   \n",
              "\n",
              "   target  \n",
              "0       0  \n",
              "1       0  \n",
              "2       0  \n",
              "3       0  \n",
              "4       0  "
            ],
            "text/html": [
              "\n",
              "  <div id=\"df-c18638bf-9d99-4225-8fec-1d369bbd5d6d\">\n",
              "    <div class=\"colab-df-container\">\n",
              "      <div>\n",
              "<style scoped>\n",
              "    .dataframe tbody tr th:only-of-type {\n",
              "        vertical-align: middle;\n",
              "    }\n",
              "\n",
              "    .dataframe tbody tr th {\n",
              "        vertical-align: top;\n",
              "    }\n",
              "\n",
              "    .dataframe thead th {\n",
              "        text-align: right;\n",
              "    }\n",
              "</style>\n",
              "<table border=\"1\" class=\"dataframe\">\n",
              "  <thead>\n",
              "    <tr style=\"text-align: right;\">\n",
              "      <th></th>\n",
              "      <th>sepal length (cm)</th>\n",
              "      <th>sepal width (cm)</th>\n",
              "      <th>petal length (cm)</th>\n",
              "      <th>petal width (cm)</th>\n",
              "      <th>target</th>\n",
              "    </tr>\n",
              "  </thead>\n",
              "  <tbody>\n",
              "    <tr>\n",
              "      <th>0</th>\n",
              "      <td>5.1</td>\n",
              "      <td>3.5</td>\n",
              "      <td>1.4</td>\n",
              "      <td>0.2</td>\n",
              "      <td>0</td>\n",
              "    </tr>\n",
              "    <tr>\n",
              "      <th>1</th>\n",
              "      <td>4.9</td>\n",
              "      <td>3.0</td>\n",
              "      <td>1.4</td>\n",
              "      <td>0.2</td>\n",
              "      <td>0</td>\n",
              "    </tr>\n",
              "    <tr>\n",
              "      <th>2</th>\n",
              "      <td>4.7</td>\n",
              "      <td>3.2</td>\n",
              "      <td>1.3</td>\n",
              "      <td>0.2</td>\n",
              "      <td>0</td>\n",
              "    </tr>\n",
              "    <tr>\n",
              "      <th>3</th>\n",
              "      <td>4.6</td>\n",
              "      <td>3.1</td>\n",
              "      <td>1.5</td>\n",
              "      <td>0.2</td>\n",
              "      <td>0</td>\n",
              "    </tr>\n",
              "    <tr>\n",
              "      <th>4</th>\n",
              "      <td>5.0</td>\n",
              "      <td>3.6</td>\n",
              "      <td>1.4</td>\n",
              "      <td>0.2</td>\n",
              "      <td>0</td>\n",
              "    </tr>\n",
              "  </tbody>\n",
              "</table>\n",
              "</div>\n",
              "      <button class=\"colab-df-convert\" onclick=\"convertToInteractive('df-c18638bf-9d99-4225-8fec-1d369bbd5d6d')\"\n",
              "              title=\"Convert this dataframe to an interactive table.\"\n",
              "              style=\"display:none;\">\n",
              "        \n",
              "  <svg xmlns=\"http://www.w3.org/2000/svg\" height=\"24px\"viewBox=\"0 0 24 24\"\n",
              "       width=\"24px\">\n",
              "    <path d=\"M0 0h24v24H0V0z\" fill=\"none\"/>\n",
              "    <path d=\"M18.56 5.44l.94 2.06.94-2.06 2.06-.94-2.06-.94-.94-2.06-.94 2.06-2.06.94zm-11 1L8.5 8.5l.94-2.06 2.06-.94-2.06-.94L8.5 2.5l-.94 2.06-2.06.94zm10 10l.94 2.06.94-2.06 2.06-.94-2.06-.94-.94-2.06-.94 2.06-2.06.94z\"/><path d=\"M17.41 7.96l-1.37-1.37c-.4-.4-.92-.59-1.43-.59-.52 0-1.04.2-1.43.59L10.3 9.45l-7.72 7.72c-.78.78-.78 2.05 0 2.83L4 21.41c.39.39.9.59 1.41.59.51 0 1.02-.2 1.41-.59l7.78-7.78 2.81-2.81c.8-.78.8-2.07 0-2.86zM5.41 20L4 18.59l7.72-7.72 1.47 1.35L5.41 20z\"/>\n",
              "  </svg>\n",
              "      </button>\n",
              "      \n",
              "  <style>\n",
              "    .colab-df-container {\n",
              "      display:flex;\n",
              "      flex-wrap:wrap;\n",
              "      gap: 12px;\n",
              "    }\n",
              "\n",
              "    .colab-df-convert {\n",
              "      background-color: #E8F0FE;\n",
              "      border: none;\n",
              "      border-radius: 50%;\n",
              "      cursor: pointer;\n",
              "      display: none;\n",
              "      fill: #1967D2;\n",
              "      height: 32px;\n",
              "      padding: 0 0 0 0;\n",
              "      width: 32px;\n",
              "    }\n",
              "\n",
              "    .colab-df-convert:hover {\n",
              "      background-color: #E2EBFA;\n",
              "      box-shadow: 0px 1px 2px rgba(60, 64, 67, 0.3), 0px 1px 3px 1px rgba(60, 64, 67, 0.15);\n",
              "      fill: #174EA6;\n",
              "    }\n",
              "\n",
              "    [theme=dark] .colab-df-convert {\n",
              "      background-color: #3B4455;\n",
              "      fill: #D2E3FC;\n",
              "    }\n",
              "\n",
              "    [theme=dark] .colab-df-convert:hover {\n",
              "      background-color: #434B5C;\n",
              "      box-shadow: 0px 1px 3px 1px rgba(0, 0, 0, 0.15);\n",
              "      filter: drop-shadow(0px 1px 2px rgba(0, 0, 0, 0.3));\n",
              "      fill: #FFFFFF;\n",
              "    }\n",
              "  </style>\n",
              "\n",
              "      <script>\n",
              "        const buttonEl =\n",
              "          document.querySelector('#df-c18638bf-9d99-4225-8fec-1d369bbd5d6d button.colab-df-convert');\n",
              "        buttonEl.style.display =\n",
              "          google.colab.kernel.accessAllowed ? 'block' : 'none';\n",
              "\n",
              "        async function convertToInteractive(key) {\n",
              "          const element = document.querySelector('#df-c18638bf-9d99-4225-8fec-1d369bbd5d6d');\n",
              "          const dataTable =\n",
              "            await google.colab.kernel.invokeFunction('convertToInteractive',\n",
              "                                                     [key], {});\n",
              "          if (!dataTable) return;\n",
              "\n",
              "          const docLinkHtml = 'Like what you see? Visit the ' +\n",
              "            '<a target=\"_blank\" href=https://colab.research.google.com/notebooks/data_table.ipynb>data table notebook</a>'\n",
              "            + ' to learn more about interactive tables.';\n",
              "          element.innerHTML = '';\n",
              "          dataTable['output_type'] = 'display_data';\n",
              "          await google.colab.output.renderOutput(dataTable, element);\n",
              "          const docLink = document.createElement('div');\n",
              "          docLink.innerHTML = docLinkHtml;\n",
              "          element.appendChild(docLink);\n",
              "        }\n",
              "      </script>\n",
              "    </div>\n",
              "  </div>\n",
              "  "
            ]
          },
          "metadata": {},
          "execution_count": 2
        }
      ]
    },
    {
      "cell_type": "code",
      "source": [
        "plt.scatter(x=X_train[X_train['target'] == 0][\"sepal length (cm)\"], y = X_train[X_train['target'] == 0]['sepal width (cm)'], s = 10, label = 'setosa')\n",
        "plt.scatter(x=X_train[X_train['target'] == 1][\"sepal length (cm)\"], y = X_train[X_train['target'] == 1]['sepal width (cm)'], s = 10, label = 'versicolour')\n",
        "plt.scatter(x=X_train[X_train['target'] == 2][\"sepal length (cm)\"], y = X_train[X_train['target'] == 2]['sepal width (cm)'], s = 10, label = 'verginica')\n",
        "plt.xlabel(\"Sepal Length in cm\")\n",
        "plt.ylabel(\"Sepal width in cm\")\n",
        "plt.title(\"Sepal Variations\")\n",
        "plt.legend(loc='best')\n",
        "plt.show()"
      ],
      "metadata": {
        "colab": {
          "base_uri": "https://localhost:8080/",
          "height": 295
        },
        "id": "QPPakRYMyBqG",
        "outputId": "23d17d9a-051e-448e-c279-d333b75b31da"
      },
      "execution_count": 3,
      "outputs": [
        {
          "output_type": "display_data",
          "data": {
            "text/plain": [
              "<Figure size 432x288 with 1 Axes>"
            ],
            "image/png": "[encoded data removed]"
          },
          "metadata": {
            "needs_background": "light"
          }
        }
      ]
    },
    {
      "cell_type": "code",
      "source": [
        "plt.scatter(x=X_train[X_train['target'] == 0][\"petal length (cm)\"], y = X_train[X_train['target'] == 0]['petal width (cm)'], s = 10, label = 'setosa')\n",
        "plt.scatter(x=X_train[X_train['target'] == 1][\"petal length (cm)\"], y = X_train[X_train['target'] == 1]['petal width (cm)'], s = 10, label = 'versicolour')\n",
        "plt.scatter(x=X_train[X_train['target'] == 2][\"petal length (cm)\"], y = X_train[X_train['target'] == 2]['petal width (cm)'], s = 10, label = 'verginica')\n",
        "plt.xlabel(\"Petal Length in cm\")\n",
        "plt.ylabel(\"Petal width in cm\")\n",
        "plt.title(\"Petal Variations\")\n",
        "plt.legend(loc='best')\n",
        "plt.show()"
      ],
      "metadata": {
        "colab": {
          "base_uri": "https://localhost:8080/",
          "height": 295
        },
        "id": "jGJF_h4A0BKU",
        "outputId": "21f23a2c-d224-430f-c5fb-cbd62ef23a41"
      },
      "execution_count": 4,
      "outputs": [
        {
          "output_type": "display_data",
          "data": {
            "text/plain": [
              "<Figure size 432x288 with 1 Axes>"
            ],
            "image/png": "[encoded data removed]"
          },
          "metadata": {
            "needs_background": "light"
          }
        }
      ]
    },
    {
      "cell_type": "code",
      "source": [
        "X_train.info()"
      ],
      "metadata": {
        "colab": {
          "base_uri": "https://localhost:8080/"
        },
        "id": "ANzCzSPD3T9C",
        "outputId": "aae5c3b2-370a-4fd8-b442-0fa37bf661ef"
      },
      "execution_count": 5,
      "outputs": [
        {
          "output_type": "stream",
          "name": "stdout",
          "text": [
            "<class 'pandas.core.frame.DataFrame'>\n",
            "RangeIndex: 150 entries, 0 to 149\n",
            "Data columns (total 5 columns):\n",
            " #   Column             Non-Null Count  Dtype  \n",
            "---  ------             --------------  -----  \n",
            " 0   sepal length (cm)  150 non-null    float64\n",
            " 1   sepal width (cm)   150 non-null    float64\n",
            " 2   petal length (cm)  150 non-null    float64\n",
            " 3   petal width (cm)   150 non-null    float64\n",
            " 4   target             150 non-null    int64  \n",
            "dtypes: float64(4), int64(1)\n",
            "memory usage: 6.0 KB\n"
          ]
        }
      ]
    },
    {
      "cell_type": "code",
      "source": [
        "def euclidean_distance(point1, point2):\n",
        "  dist = 0\n",
        "  for i in range(len(point1)):\n",
        "    dist += (point1[i] - point2[i]) ** 2\n",
        "  \n",
        "  return math.sqrt(dist)"
      ],
      "metadata": {
        "id": "xeWZgtF9TLLE"
      },
      "execution_count": 6,
      "outputs": []
    },
    {
      "cell_type": "code",
      "source": [
        "def get_distances(train, test_row, k):\n",
        "  distance = []\n",
        "  for index in train.index:\n",
        "    dist = euclidean_distance(test_row, train.iloc[index])\n",
        "    distance.append((train.iloc[index], dist))\n",
        "  distance.sort(key = lambda tup: tup[1])\n",
        "  return distance"
      ],
      "metadata": {
        "id": "Xrl3mJWQwR9T"
      },
      "execution_count": 7,
      "outputs": []
    },
    {
      "cell_type": "code",
      "source": [
        "def get_neighbors(train, test_row, k):\n",
        "  neighbors = []\n",
        "  distance = get_distances(train, test_row, k)\n",
        "  for i in range(k):\n",
        "    neighbors.append(distance[i][0])\n",
        "  return neighbors"
      ],
      "metadata": {
        "id": "VRiWQMfV1GM5"
      },
      "execution_count": 8,
      "outputs": []
    },
    {
      "cell_type": "code",
      "source": [
        "def get_predictions(train, test_row, k):\n",
        "  neighbors = get_neighbors(train, test_row, k)\n",
        "  output = [row[-1] for row in neighbors] # get the target for each row in nearest neighbors\n",
        "  preds = max(set(output), key = output.count)\n",
        "  return preds"
      ],
      "metadata": {
        "id": "0DgIO2r71VIz"
      },
      "execution_count": 9,
      "outputs": []
    },
    {
      "cell_type": "code",
      "source": [
        "def knn_scratch(train, test, k):\n",
        "  preds = []\n",
        "  for row in test:\n",
        "    output = get_predictions(train, row, k)\n",
        "    preds.append(output)\n",
        "  return preds"
      ],
      "metadata": {
        "id": "-ADp_gqt126F"
      },
      "execution_count": 10,
      "outputs": []
    },
    {
      "cell_type": "code",
      "source": [
        "k = 10 # general value of k\n",
        "test_pt = [\n",
        "            [4.8, 2.7, 2.5, 0.7],\n",
        "            [0.5, 3, 7, 3],\n",
        "            [5, 2.2, 1, 0.9],\n",
        "            [3.6, 1.8, 3.7, 1.3]\n",
        "          ]\n",
        "\n",
        "preds = knn_scratch(X_train, test_pt, k)\n",
        "print(preds)"
      ],
      "metadata": {
        "colab": {
          "base_uri": "https://localhost:8080/"
        },
        "id": "yAUK8bQf2FcC",
        "outputId": "9197af83-0322-4446-91c3-b2fba92f6ab8"
      },
      "execution_count": 11,
      "outputs": [
        {
          "output_type": "stream",
          "name": "stdout",
          "text": [
            "[0.0, 2.0, 0.0, 1.0]\n"
          ]
        }
      ]
    },
    {
      "cell_type": "markdown",
      "source": [
        "# Important points\n",
        "* Standardization is very important in knn because it is based on distance metric and distances are greatly affected by the output.\n",
        "* Assumptions\n",
        "  * Primary assumption is that the data points/instances which lie close to each other share similar property.\n",
        "* **knn is greatly affected by curse of dimensionality because as the data gets sparser (due to higher dimensions), the distances become so comparable that it could not be differentiated between nearest and other data points.**"
      ],
      "metadata": {
        "id": "7mCoIr8z5paH"
      }
    }
  ]
}